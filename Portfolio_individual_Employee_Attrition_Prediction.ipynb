{
  "nbformat": 4,
  "nbformat_minor": 0,
  "metadata": {
    "colab": {
      "provenance": []
    },
    "kernelspec": {
      "name": "python3",
      "display_name": "Python 3"
    },
    "language_info": {
      "name": "python"
    }
  },
  "cells": [
    {
      "cell_type": "code",
      "execution_count": 10,
      "metadata": {
        "id": "4Zb6hLM7jqDX"
      },
      "outputs": [],
      "source": [
        "import pandas as pd\n",
        "import numpy as np\n",
        "from sklearn.preprocessing import StandardScaler"
      ]
    },
    {
      "cell_type": "code",
      "source": [
        "# Load the dataset\n",
        "df = pd.read_csv('/content/drive/MyDrive/Colab Notebooks/WA_Fn-UseC_-HR-Employee-Attrition.csv')\n",
        "\n",
        "# Print the shape\n",
        "print('Data set shape', df.shape)"
      ],
      "metadata": {
        "colab": {
          "base_uri": "https://localhost:8080/"
        },
        "id": "WI2xH8dXmdHZ",
        "outputId": "4d3c272e-527d-46ea-d89a-bcaf0fe77d7f"
      },
      "execution_count": 24,
      "outputs": [
        {
          "output_type": "stream",
          "name": "stdout",
          "text": [
            "Data set shape (1470, 35)\n"
          ]
        }
      ]
    },
    {
      "cell_type": "markdown",
      "source": [
        "# 1. Preprocessing"
      ],
      "metadata": {
        "id": "bkjLzaj-8Gbq"
      }
    },
    {
      "cell_type": "code",
      "source": [
        "# Handling missing values\n",
        "print(\"Missing values per column:\\n\", df.isnull().sum())"
      ],
      "metadata": {
        "colab": {
          "base_uri": "https://localhost:8080/"
        },
        "id": "9Mvvof6AnKnn",
        "outputId": "d57f1208-c6f1-4895-a43a-1f160c947187"
      },
      "execution_count": 17,
      "outputs": [
        {
          "output_type": "stream",
          "name": "stdout",
          "text": [
            "Missing values per column:\n",
            " Age                                  0\n",
            "Attrition                            0\n",
            "DailyRate                            0\n",
            "DistanceFromHome                     0\n",
            "Education                            0\n",
            "EnvironmentSatisfaction              0\n",
            "Gender                               0\n",
            "HourlyRate                           0\n",
            "JobInvolvement                       0\n",
            "JobLevel                             0\n",
            "JobSatisfaction                      0\n",
            "MonthlyIncome                        0\n",
            "MonthlyRate                          0\n",
            "NumCompaniesWorked                   0\n",
            "OverTime                             0\n",
            "PercentSalaryHike                    0\n",
            "PerformanceRating                    0\n",
            "RelationshipSatisfaction             0\n",
            "StockOptionLevel                     0\n",
            "TotalWorkingYears                    0\n",
            "TrainingTimesLastYear                0\n",
            "WorkLifeBalance                      0\n",
            "YearsAtCompany                       0\n",
            "YearsInCurrentRole                   0\n",
            "YearsSinceLastPromotion              0\n",
            "YearsWithCurrManager                 0\n",
            "MonthlyIncomeLog                     0\n",
            "BusinessTravel_Travel_Frequently     0\n",
            "BusinessTravel_Travel_Rarely         0\n",
            "Department_Research & Development    0\n",
            "Department_Sales                     0\n",
            "EducationField_Life Sciences         0\n",
            "EducationField_Marketing             0\n",
            "EducationField_Medical               0\n",
            "EducationField_Other                 0\n",
            "EducationField_Technical Degree      0\n",
            "JobRole_Human Resources              0\n",
            "JobRole_Laboratory Technician        0\n",
            "JobRole_Manager                      0\n",
            "JobRole_Manufacturing Director       0\n",
            "JobRole_Research Director            0\n",
            "JobRole_Research Scientist           0\n",
            "JobRole_Sales Executive              0\n",
            "JobRole_Sales Representative         0\n",
            "MaritalStatus_Married                0\n",
            "MaritalStatus_Single                 0\n",
            "dtype: int64\n"
          ]
        }
      ]
    },
    {
      "cell_type": "code",
      "source": [
        "#dropping irrelevant and constant features\n",
        "cols_to_drop = ['EmployeeCount', 'StandardHours', 'Over18', 'EmployeeNumber']\n",
        "df.drop(columns=cols_to_drop, inplace=True)\n",
        "\n",
        "# Outlier handling\n",
        "# Using log transformation to reduce skewness\n",
        "df['MonthlyIncomeLog'] = df['MonthlyIncome'].apply(lambda x: np.log1p(x))\n",
        "\n",
        "# cap extream outliers for MonthlyIncome\n",
        "income_99 = df['MonthlyIncome'].quantile(0.99)\n",
        "\n",
        "# Encoding categorical variables\n",
        "df['Attrition'] = df['Attrition'].map({'Yes': 1, 'No': 0})\n",
        "df['Gender']   = df['Gender'].map({'Male': 1, 'Female': 0})\n",
        "df['OverTime'] = df['OverTime'].map({'Yes': 1, 'No': 0})\n",
        "\n",
        "# One hot encode multi class categories\n",
        "df = pd.get_dummies(df, columns=['BusinessTravel','Department','EducationField','JobRole','MaritalStatus'], drop_first=True)\n",
        "\n",
        "print(\"Shape after encoding:\", df.shape)\n",
        "# Separate features and target\n",
        "X = df.drop('Attrition', axis=1)\n",
        "y = df['Attrition']"
      ],
      "metadata": {
        "colab": {
          "base_uri": "https://localhost:8080/"
        },
        "id": "REeXQj7YnVhO",
        "outputId": "63490d39-a579-42f7-ad32-07ee6221a95c"
      },
      "execution_count": 25,
      "outputs": [
        {
          "output_type": "stream",
          "name": "stdout",
          "text": [
            "Shape after encoding: (1470, 46)\n"
          ]
        }
      ]
    },
    {
      "cell_type": "code",
      "source": [
        "# Feature Scaling (standardise numercal features)\n",
        "numeric_cols = X.select_dtypes(include=['int64','float64']).columns.tolist()\n",
        "# remove created dummy colums and Attrition from numeric cols\n",
        "numeric_cols = [col for col in numeric_cols if col not in ['Attrition'] and '_' not in col]\n",
        "scaler = StandardScaler()\n",
        "X[numeric_cols] = scaler.fit_transform(X[numeric_cols])\n",
        "\n",
        "# Save preprocessed dataset for future use\n",
        "processed_df = pd.concat([X, y], axis=1)\n",
        "processed_df.to_csv('processed_attrition_data.csv', index=False)\n",
        "print(\"Preprocessing done. Processed data saved to CSV.\")"
      ],
      "metadata": {
        "colab": {
          "base_uri": "https://localhost:8080/"
        },
        "id": "5NFECWms3RdR",
        "outputId": "9c0bcb6c-f6ef-48c3-9617-6b4ea2de73d8"
      },
      "execution_count": 26,
      "outputs": [
        {
          "output_type": "stream",
          "name": "stdout",
          "text": [
            "Preprocessing done. Processed data saved to CSV.\n"
          ]
        }
      ]
    },
    {
      "cell_type": "markdown",
      "source": [
        "# 2. Feature Engineering"
      ],
      "metadata": {
        "id": "B_kx_Kkm8LAQ"
      }
    },
    {
      "cell_type": "code",
      "source": [
        "# Create a copy of preprocessed data set for feature engineering\n",
        "df_fe = processed_df.copy()\n",
        "\n",
        "# Interaction between jobRole and MonthlyIncome (via one-hot roles * income)\n",
        "jobrole_cols = [col for col in df_fe.columns if col.startswith('JobRole_')]\n",
        "for col in jobrole_cols:\n",
        "    new_col = col + '_Income'\n",
        "    df_fe[new_col] = df_fe[col] * df_fe['MonthlyIncome']"
      ],
      "metadata": {
        "id": "6Sr7eH2-9odh"
      },
      "execution_count": 28,
      "outputs": []
    },
    {
      "cell_type": "code",
      "source": [
        "# Relative income to avarage. of the same JobRole\n",
        "orig_df = pd.read_csv('/content/drive/MyDrive/Colab Notebooks/WA_Fn-UseC_-HR-Employee-Attrition.csv')\n",
        "orig_df['Attrition'] = orig_df['Attrition'].map({'Yes':1,'No':0})\n",
        "avg_income_by_role = orig_df.groupby('JobRole')['MonthlyIncome'].mean()\n",
        "\n",
        "# Map each employee's JobRole to the average income of that role\n",
        "df_fe['RoleAvgIncome'] = orig_df['JobRole'].map(avg_income_by_role)\n",
        "# relative income = current income / avg income for that role\n",
        "df_fe['RelIncomeToRoleAvg'] = df_fe['MonthlyIncome'] / df_fe['RoleAvgIncome']\n",
        "\n",
        "# Tenure ratio (Years at company vs Age)\n",
        "df_fe['TenureRatio'] = df_fe['YearsAtCompany'] / df_fe['Age']\n",
        "\n",
        "# Promotion gap (if YearsAtCompany > 0)\n",
        "df_fe['PromotionGap'] = df_fe.apply(lambda row: row['YearsSinceLastPromotion'] / row['YearsAtCompany']\n",
        "                                    if row['YearsAtCompany'] > 0 else 0, axis=1)\n",
        "\n",
        "print(\"Added engineered features. New shape:\", df_fe.shape)"
      ],
      "metadata": {
        "colab": {
          "base_uri": "https://localhost:8080/"
        },
        "id": "O7hyyF58AKPE",
        "outputId": "a6dfacc9-53a1-4e86-ad5c-410da5daf459"
      },
      "execution_count": 32,
      "outputs": [
        {
          "output_type": "stream",
          "name": "stdout",
          "text": [
            "Added engineered features. New shape: (1470, 58)\n"
          ]
        }
      ]
    },
    {
      "cell_type": "markdown",
      "source": [],
      "metadata": {
        "id": "H-kauO_tEXL2"
      }
    },
    {
      "cell_type": "code",
      "source": [],
      "metadata": {
        "id": "Htsa6NjvEWaH"
      },
      "execution_count": null,
      "outputs": []
    }
  ]
}