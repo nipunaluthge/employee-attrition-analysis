{
  "nbformat": 4,
  "nbformat_minor": 0,
  "metadata": {
    "colab": {
      "provenance": []
    },
    "kernelspec": {
      "name": "python3",
      "display_name": "Python 3"
    },
    "language_info": {
      "name": "python"
    }
  },
  "cells": [
    {
      "cell_type": "code",
      "execution_count": 59,
      "metadata": {
        "id": "4Zb6hLM7jqDX"
      },
      "outputs": [],
      "source": [
        "import pandas as pd\n",
        "import numpy as np\n",
        "from sklearn.preprocessing import StandardScaler\n",
        "import itertools\n",
        "from sklearn.linear_model import LogisticRegression\n",
        "from sklearn.feature_selection import RFE\n",
        "from sklearn.ensemble import RandomForestClassifier"
      ]
    },
    {
      "cell_type": "code",
      "source": [
        "# Load the dataset\n",
        "df = pd.read_csv('/content/drive/MyDrive/Colab Notebooks/WA_Fn-UseC_-HR-Employee-Attrition.csv')\n",
        "\n",
        "# Print the shape\n",
        "print('Data set shape', df.shape)"
      ],
      "metadata": {
        "colab": {
          "base_uri": "https://localhost:8080/"
        },
        "id": "WI2xH8dXmdHZ",
        "outputId": "18f5f6dd-d985-4532-c9c6-0297ef2d499d"
      },
      "execution_count": 40,
      "outputs": [
        {
          "output_type": "stream",
          "name": "stdout",
          "text": [
            "Data set shape (1470, 35)\n"
          ]
        }
      ]
    },
    {
      "cell_type": "markdown",
      "source": [
        "# 1. Preprocessing"
      ],
      "metadata": {
        "id": "bkjLzaj-8Gbq"
      }
    },
    {
      "cell_type": "code",
      "source": [
        "# Handling missing values\n",
        "print(\"Missing values per column:\\n\", df.isnull().sum())"
      ],
      "metadata": {
        "colab": {
          "base_uri": "https://localhost:8080/"
        },
        "id": "9Mvvof6AnKnn",
        "outputId": "37807977-d2bb-46b9-f0b1-10ab5019efc4"
      },
      "execution_count": 41,
      "outputs": [
        {
          "output_type": "stream",
          "name": "stdout",
          "text": [
            "Missing values per column:\n",
            " Age                         0\n",
            "Attrition                   0\n",
            "BusinessTravel              0\n",
            "DailyRate                   0\n",
            "Department                  0\n",
            "DistanceFromHome            0\n",
            "Education                   0\n",
            "EducationField              0\n",
            "EmployeeCount               0\n",
            "EmployeeNumber              0\n",
            "EnvironmentSatisfaction     0\n",
            "Gender                      0\n",
            "HourlyRate                  0\n",
            "JobInvolvement              0\n",
            "JobLevel                    0\n",
            "JobRole                     0\n",
            "JobSatisfaction             0\n",
            "MaritalStatus               0\n",
            "MonthlyIncome               0\n",
            "MonthlyRate                 0\n",
            "NumCompaniesWorked          0\n",
            "Over18                      0\n",
            "OverTime                    0\n",
            "PercentSalaryHike           0\n",
            "PerformanceRating           0\n",
            "RelationshipSatisfaction    0\n",
            "StandardHours               0\n",
            "StockOptionLevel            0\n",
            "TotalWorkingYears           0\n",
            "TrainingTimesLastYear       0\n",
            "WorkLifeBalance             0\n",
            "YearsAtCompany              0\n",
            "YearsInCurrentRole          0\n",
            "YearsSinceLastPromotion     0\n",
            "YearsWithCurrManager        0\n",
            "dtype: int64\n"
          ]
        }
      ]
    },
    {
      "cell_type": "code",
      "source": [
        "#dropping irrelevant and constant features\n",
        "cols_to_drop = ['EmployeeCount', 'StandardHours', 'Over18', 'EmployeeNumber']\n",
        "df.drop(columns=cols_to_drop, inplace=True)\n",
        "\n",
        "# Outlier handling\n",
        "# Using log transformation to reduce skewness\n",
        "df['MonthlyIncomeLog'] = df['MonthlyIncome'].apply(lambda x: np.log1p(x))\n",
        "\n",
        "# cap extream outliers for MonthlyIncome\n",
        "income_99 = df['MonthlyIncome'].quantile(0.99)\n",
        "\n",
        "# Encoding categorical variables\n",
        "df['Attrition'] = df['Attrition'].map({'Yes': 1, 'No': 0})\n",
        "df['Gender']   = df['Gender'].map({'Male': 1, 'Female': 0})\n",
        "df['OverTime'] = df['OverTime'].map({'Yes': 1, 'No': 0})\n",
        "\n",
        "# One hot encode multi class categories\n",
        "df = pd.get_dummies(df, columns=['BusinessTravel','Department','EducationField','JobRole','MaritalStatus'], drop_first=True)\n",
        "\n",
        "print(\"Shape after encoding:\", df.shape)\n",
        "# Separate features and target\n",
        "X = df.drop('Attrition', axis=1)\n",
        "y = df['Attrition']"
      ],
      "metadata": {
        "colab": {
          "base_uri": "https://localhost:8080/"
        },
        "id": "REeXQj7YnVhO",
        "outputId": "1d55f6a1-5009-4ac8-b6a5-cfd6f0ae984d"
      },
      "execution_count": 42,
      "outputs": [
        {
          "output_type": "stream",
          "name": "stdout",
          "text": [
            "Shape after encoding: (1470, 46)\n"
          ]
        }
      ]
    },
    {
      "cell_type": "code",
      "source": [
        "# Feature Scaling (standardise numercal features)\n",
        "numeric_cols = X.select_dtypes(include=['int64','float64']).columns.tolist()\n",
        "# remove created dummy colums and Attrition from numeric cols\n",
        "numeric_cols = [col for col in numeric_cols if col not in ['Attrition'] and '_' not in col]\n",
        "scaler = StandardScaler()\n",
        "X[numeric_cols] = scaler.fit_transform(X[numeric_cols])\n",
        "\n",
        "# Save preprocessed dataset for future use\n",
        "processed_df = pd.concat([X, y], axis=1)\n",
        "processed_df.to_csv('processed_attrition_data.csv', index=False)\n",
        "print(\"Preprocessing done. Processed data saved to CSV.\")"
      ],
      "metadata": {
        "colab": {
          "base_uri": "https://localhost:8080/"
        },
        "id": "5NFECWms3RdR",
        "outputId": "c01c8593-ae36-4e22-bded-f313b88e70d9"
      },
      "execution_count": 43,
      "outputs": [
        {
          "output_type": "stream",
          "name": "stdout",
          "text": [
            "Preprocessing done. Processed data saved to CSV.\n"
          ]
        }
      ]
    },
    {
      "cell_type": "markdown",
      "source": [
        "# 2. Feature Engineering"
      ],
      "metadata": {
        "id": "B_kx_Kkm8LAQ"
      }
    },
    {
      "cell_type": "code",
      "source": [
        "# Create a copy of preprocessed data set for feature engineering\n",
        "df_fe = processed_df.copy()\n",
        "\n",
        "# Interaction between jobRole and MonthlyIncome (via one-hot roles * income)\n",
        "jobrole_cols = [col for col in df_fe.columns if col.startswith('JobRole_')]\n",
        "for col in jobrole_cols:\n",
        "    new_col = col + '_Income'\n",
        "    df_fe[new_col] = df_fe[col] * df_fe['MonthlyIncome']"
      ],
      "metadata": {
        "id": "6Sr7eH2-9odh"
      },
      "execution_count": 44,
      "outputs": []
    },
    {
      "cell_type": "code",
      "source": [
        "# Relative income to avarage. of the same JobRole\n",
        "orig_df = pd.read_csv('/content/drive/MyDrive/Colab Notebooks/WA_Fn-UseC_-HR-Employee-Attrition.csv')\n",
        "orig_df['Attrition'] = orig_df['Attrition'].map({'Yes':1,'No':0})\n",
        "avg_income_by_role = orig_df.groupby('JobRole')['MonthlyIncome'].mean()\n",
        "\n",
        "# Map each employee's JobRole to the average income of that role\n",
        "df_fe['RoleAvgIncome'] = orig_df['JobRole'].map(avg_income_by_role)\n",
        "# relative income = current income / avg income for that role\n",
        "df_fe['RelIncomeToRoleAvg'] = df_fe['MonthlyIncome'] / df_fe['RoleAvgIncome']\n",
        "\n",
        "# Tenure ratio (Years at company vs Age)\n",
        "df_fe['TenureRatio'] = df_fe['YearsAtCompany'] / df_fe['Age']\n",
        "\n",
        "# Promotion gap (if YearsAtCompany > 0)\n",
        "df_fe['PromotionGap'] = df_fe.apply(lambda row: row['YearsSinceLastPromotion'] / row['YearsAtCompany']\n",
        "                                    if row['YearsAtCompany'] > 0 else 0, axis=1)\n",
        "\n",
        "print(\"Added engineered features. New shape:\", df_fe.shape)"
      ],
      "metadata": {
        "colab": {
          "base_uri": "https://localhost:8080/"
        },
        "id": "O7hyyF58AKPE",
        "outputId": "4851599d-b981-4430-ced2-fd077de10a17"
      },
      "execution_count": 45,
      "outputs": [
        {
          "output_type": "stream",
          "name": "stdout",
          "text": [
            "Added engineered features. New shape: (1470, 58)\n"
          ]
        }
      ]
    },
    {
      "cell_type": "markdown",
      "source": [
        "# 3. Feature Selection"
      ],
      "metadata": {
        "id": "H-kauO_tEXL2"
      }
    },
    {
      "cell_type": "code",
      "source": [
        "X_fe = df_fe.drop('Attrition', axis=1)\n",
        "y_fe = df_fe['Attrition']\n",
        "\n",
        "# Droping highly correlated features (treshold: 0.9)\n",
        "corr_matrix = X_fe.corr().abs()\n",
        "corr_matrix = X_fe.corr().abs()\n",
        "\n",
        "# Use combinations to iterate through each pair of features only once\n",
        "high_corr_pairs = []\n",
        "for feature1, feature2 in itertools.combinations(corr_matrix.columns, 2):\n",
        "    corr_value = corr_matrix.loc[feature1, feature2]\n",
        "    if corr_value > 0.9:\n",
        "        high_corr_pairs.append((feature1, feature2, corr_value))\n",
        "\n",
        "# Print out the highly correlated feature pairs\n",
        "if high_corr_pairs:\n",
        "    print(\"Highly correlated feature pairs (corr > 0.9):\")\n",
        "    for pair in high_corr_pairs:\n",
        "        print(f\"{pair[0]} and {pair[1]}: correlation = {pair[2]:.2f}\")\n",
        "else:\n",
        "    print(\"No feature pairs with correlation > 0.9 found.\")"
      ],
      "metadata": {
        "colab": {
          "base_uri": "https://localhost:8080/"
        },
        "id": "Htsa6NjvEWaH",
        "outputId": "6dc4f7d4-6b64-4822-89ff-3c171ad3db18"
      },
      "execution_count": 56,
      "outputs": [
        {
          "output_type": "stream",
          "name": "stdout",
          "text": [
            "Highly correlated feature pairs (corr > 0.9):\n",
            "JobLevel and MonthlyIncome: correlation = 0.95\n",
            "JobLevel and MonthlyIncomeLog: correlation = 0.92\n",
            "MonthlyIncome and MonthlyIncomeLog: correlation = 0.94\n",
            "MonthlyIncome and RoleAvgIncome: correlation = 0.90\n",
            "MonthlyIncomeLog and RelIncomeToRoleAvg: correlation = 0.97\n",
            "Department_Research & Development and Department_Sales: correlation = 0.91\n",
            "JobRole_Laboratory Technician and JobRole_Laboratory Technician_Income: correlation = 0.93\n",
            "JobRole_Manager and JobRole_Manager_Income: correlation = 0.98\n",
            "JobRole_Research Director and JobRole_Research Director_Income: correlation = 0.96\n",
            "JobRole_Research Scientist and JobRole_Research Scientist_Income: correlation = 0.93\n",
            "JobRole_Sales Representative and JobRole_Sales Representative_Income: correlation = 0.98\n"
          ]
        }
      ]
    },
    {
      "cell_type": "code",
      "source": [
        "# List of features to remove based on our correlation analysis:\n",
        "features_to_remove = [\n",
        "    'JobLevel',          # redundant with salary features\n",
        "    'MonthlyIncome',     # we will use the log-transformed version instead\n",
        "    'RoleAvgIncome',     # redundant with MonthlyIncomeLog\n",
        "    'RelIncomeToRoleAvg' # redundant with MonthlyIncomeLog\n",
        "]\n",
        "\n",
        "# For department dummies, drop one\n",
        "if 'Department_Sales' in X_fe.columns and 'Department_Research & Development' in X_fe.columns:\n",
        "    features_to_remove.append('Department_Sales')\n",
        "\n",
        "# For job role interaction terms: drop all columns that have the pattern '_Income' and start with 'JobRole_'\n",
        "job_role_income_features = [col for col in X_fe.columns if col.startswith('JobRole_') and '_Income' in col]\n",
        "features_to_remove.extend(job_role_income_features)\n",
        "\n",
        "# Print the list of features to be removed\n",
        "print(\"Features to be removed due to high correlation:\", features_to_remove)\n",
        "\n",
        "# Remove these features from X_fe\n",
        "X_reduced = X_fe.drop(features_to_remove, axis=1)\n",
        "\n",
        "print(\"Shape before removal:\", X_fe.shape)\n",
        "print(\"Shape after removal:\", X_reduced.shape)"
      ],
      "metadata": {
        "colab": {
          "base_uri": "https://localhost:8080/"
        },
        "id": "Ga3Mp_veN8iL",
        "outputId": "a14e1265-8d5b-4631-f3e0-2e8b6599f3a8"
      },
      "execution_count": 57,
      "outputs": [
        {
          "output_type": "stream",
          "name": "stdout",
          "text": [
            "Features to be removed due to high correlation: ['JobLevel', 'MonthlyIncome', 'RoleAvgIncome', 'RelIncomeToRoleAvg', 'Department_Sales', 'JobRole_Human Resources_Income', 'JobRole_Laboratory Technician_Income', 'JobRole_Manager_Income', 'JobRole_Manufacturing Director_Income', 'JobRole_Research Director_Income', 'JobRole_Research Scientist_Income', 'JobRole_Sales Executive_Income', 'JobRole_Sales Representative_Income']\n",
            "Shape before removal: (1470, 57)\n",
            "Shape after removal: (1470, 44)\n"
          ]
        }
      ]
    },
    {
      "cell_type": "code",
      "source": [
        "# REF using logistic regression\n",
        "# Use a logistic regression (with no penalty or L2 to not bias feature selection) for RFE\n",
        "logreg = LogisticRegression(max_iter=1000, solver='lbfgs')\n",
        "rfe = RFE(logreg, n_features_to_select=10)  # choose top 10 features\n",
        "rfe.fit(X_fe, y_fe)\n",
        "selected_indices = rfe.get_support(indices=True)\n",
        "selected_features = X_fe.columns[selected_indices]\n",
        "print(\"Top 10 features selected by RFE:\", list(selected_features))"
      ],
      "metadata": {
        "colab": {
          "base_uri": "https://localhost:8080/"
        },
        "id": "9egKZr6yR3-V",
        "outputId": "84061c77-efa2-4220-e2a7-26136fed2d71"
      },
      "execution_count": 58,
      "outputs": [
        {
          "output_type": "stream",
          "name": "stderr",
          "text": [
            "/usr/local/lib/python3.11/dist-packages/sklearn/linear_model/_logistic.py:465: ConvergenceWarning: lbfgs failed to converge (status=1):\n",
            "STOP: TOTAL NO. of ITERATIONS REACHED LIMIT.\n",
            "\n",
            "Increase the number of iterations (max_iter) or scale the data as shown in:\n",
            "    https://scikit-learn.org/stable/modules/preprocessing.html\n",
            "Please also refer to the documentation for alternative solver options:\n",
            "    https://scikit-learn.org/stable/modules/linear_model.html#logistic-regression\n",
            "  n_iter_i = _check_optimize_result(\n",
            "/usr/local/lib/python3.11/dist-packages/sklearn/linear_model/_logistic.py:465: ConvergenceWarning: lbfgs failed to converge (status=1):\n",
            "STOP: TOTAL NO. of ITERATIONS REACHED LIMIT.\n",
            "\n",
            "Increase the number of iterations (max_iter) or scale the data as shown in:\n",
            "    https://scikit-learn.org/stable/modules/preprocessing.html\n",
            "Please also refer to the documentation for alternative solver options:\n",
            "    https://scikit-learn.org/stable/modules/linear_model.html#logistic-regression\n",
            "  n_iter_i = _check_optimize_result(\n"
          ]
        },
        {
          "output_type": "stream",
          "name": "stdout",
          "text": [
            "Top 10 features selected by RFE: ['OverTime', 'MonthlyIncomeLog', 'BusinessTravel_Travel_Frequently', 'EducationField_Technical Degree', 'JobRole_Human Resources', 'JobRole_Sales Executive', 'MaritalStatus_Single', 'JobRole_Laboratory Technician_Income', 'JobRole_Sales Executive_Income', 'JobRole_Sales Representative_Income']\n"
          ]
        }
      ]
    },
    {
      "cell_type": "code",
      "source": [
        "# Feature importance from Random Forest\n",
        "\n",
        "rf = RandomForestClassifier(n_estimators=100, random_state=42)\n",
        "rf.fit(X_fe, y_fe)\n",
        "importances = pd.Series(rf.feature_importances_, index=X_fe.columns).sort_values(ascending=False)\n",
        "print(\"Top 10 features by Random Forest importance:\")\n",
        "print(importances.head(10))"
      ],
      "metadata": {
        "colab": {
          "base_uri": "https://localhost:8080/"
        },
        "id": "fTTOG9h8TEsN",
        "outputId": "c628fbb4-b795-4ffb-94f6-d32f6fc14e85"
      },
      "execution_count": 60,
      "outputs": [
        {
          "output_type": "stream",
          "name": "stdout",
          "text": [
            "Top 10 features by Random Forest importance:\n",
            "RelIncomeToRoleAvg    0.049865\n",
            "MonthlyIncomeLog      0.047681\n",
            "MonthlyIncome         0.044384\n",
            "DailyRate             0.042945\n",
            "Age                   0.042693\n",
            "OverTime              0.042634\n",
            "MonthlyRate           0.038774\n",
            "TotalWorkingYears     0.037628\n",
            "TenureRatio           0.037091\n",
            "DistanceFromHome      0.036807\n",
            "dtype: float64\n"
          ]
        }
      ]
    }
  ]
}